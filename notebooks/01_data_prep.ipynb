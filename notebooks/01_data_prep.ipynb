{
 "cells": [
  {
   "cell_type": "code",
   "execution_count": null,
   "metadata": {
    "vscode": {
     "languageId": "plaintext"
    }
   },
   "outputs": [],
   "source": [
    "import pandas as pd\n",
    "import geopandas as gpd\n",
    "from shapely.geometry import Point\n",
    "\n",
    "\n",
    "# Load dataset\n",
    "df = pd.read_csv('../data/chipotle_stores.csv')\n",
    "print(f\"Original shape: {df.shape}\")\n",
    "\n",
    "\n",
    "# Drop missing coordinates and duplicates\n",
    "lat_col, lon_col = 'latitude', 'longitude'\n",
    "df = df.dropna(subset=[lat_col, lon_col]).drop_duplicates().reset_index(drop=True)\n",
    "print(f\"After cleaning: {df.shape}\")\n",
    "\n",
    "\n",
    "# Convert to GeoDataFrame\n",
    "gdf = gpd.GeoDataFrame(df, geometry=gpd.points_from_xy(df[lon_col], df[lat_col]), crs='EPSG:4326')\n",
    "\n",
    "\n",
    "# Project to a metric CRS (US National Atlas Equal Area)\n",
    "gdf = gdf.to_crs(epsg=2163)\n",
    "gdf['x'] = gdf.geometry.x\n",
    "gdf['y'] = gdf.geometry.y\n",
    "\n",
    "\n",
    "# Save cleaned data\n",
    "gdf.to_csv('../data/chipotle_clean.csv', index=False)\n",
    "print('Saved cleaned data to ../data/chipotle_clean.csv')\n",
    "\n",
    "\n",
    "gdf.head()"
   ]
  }
 ],
 "metadata": {
  "language_info": {
   "name": "python"
  }
 },
 "nbformat": 4,
 "nbformat_minor": 5
}
