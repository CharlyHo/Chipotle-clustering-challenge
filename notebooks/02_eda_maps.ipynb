{
 "cells": [
  {
   "cell_type": "code",
   "execution_count": null,
   "id": "937bfbab",
   "metadata": {
    "vscode": {
     "languageId": "plaintext"
    }
   },
   "outputs": [],
   "source": [
    "import geopandas as gpd\n",
    "import matplotlib.pyplot as plt\n",
    "import numpy as np\n",
    "from sklearn.neighbors import NearestNeighbors, KernelDensity\n",
    "\n",
    "\n",
    "# Load cleaned dataset\n",
    "gdf = gpd.read_file('../data/chipotle_clean.csv')\n",
    "print(f\"Loaded {len(gdf)} locations.\")\n",
    "\n",
    "\n",
    "# Static scatter map\n",
    "fig, ax = plt.subplots(figsize=(10,6))\n",
    "gdf.plot(ax=ax, markersize=6, color='darkred')\n",
    "ax.set_title('Chipotle Locations (Projected)')\n",
    "fig.savefig('../outputs/figures/all_chipotles_projected.png', dpi=150, bbox_inches='tight')\n",
    "plt.show()\n",
    "\n",
    "\n",
    "# k-distance plot for DBSCAN eps selection\n",
    "coords = gdf[['x','y']].values\n",
    "nbrs = NearestNeighbors(n_neighbors=4).fit(coords)\n",
    "distances, _ = nbrs.kneighbors(coords)\n",
    "k_dist = np.sort(distances[:, -1])\n",
    "plt.figure(figsize=(8,4))\n",
    "plt.plot(k_dist)\n",
    "plt.ylabel('4-distance (m)')\n",
    "plt.xlabel('Sorted Points')\n",
    "plt.title('K-distance plot (k=4)')\n",
    "plt.savefig('../outputs/figures/k4_distance.png', dpi=150, bbox_inches='tight')\n",
    "plt.show()\n",
    "\n",
    "\n",
    "# KDE heatmap\n",
    "xs, ys = gdf['x'].values, gdf['y'].values\n",
    "xmin, xmax, ymin, ymax = xs.min(), xs.max(), ys.min(), ys.max()\n",
    "xx, yy = np.meshgrid(np.linspace(xmin, xmax, 200), np.linspace(ymin, ymax, 200))\n",
    "grid = np.vstack([xx.ravel(), yy.ravel()]).T\n",
    "\n",
    "\n",
    "kde = KernelDensity(bandwidth=50000).fit(np.vstack([xs, ys]).T)\n",
    "Z = np.exp(kde.score_samples(grid)).reshape(xx.shape)\n",
    "fig, ax = plt.subplots(figsize=(10,6))\n",
    "ax.imshow(np.flipud(Z), extent=(xmin, xmax, ymin, ymax), cmap='Reds')\n",
    "gdf.plot(ax=ax, markersize=2, color='black')\n",
    "ax.set_title('Chipotle Density (KDE, bandwidth=50km)')\n",
    "fig.savefig('../outputs/figures/kde_heatmap.png', dpi=150, bbox_inches='tight')\n",
    "plt.show()"
   ]
  }
 ],
 "metadata": {
  "language_info": {
   "name": "python"
  }
 },
 "nbformat": 4,
 "nbformat_minor": 5
}
